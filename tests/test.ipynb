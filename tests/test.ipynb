{
 "cells": [
  {
   "cell_type": "code",
   "execution_count": 25,
   "metadata": {},
   "outputs": [
    {
     "name": "stdout",
     "output_type": "stream",
     "text": [
      "[[ 1.         -0.34299717  0.         -0.25        0.        ]\n",
      " [-0.34299717  1.          0.          0.94324222  0.        ]\n",
      " [ 0.          0.          0.          0.          0.        ]\n",
      " [-0.25        0.94324222  0.          1.          0.        ]\n",
      " [ 0.          0.          0.          0.          0.        ]] \n",
      "\n",
      "[ True  True False  True False] \n",
      "\n",
      "[[ 1.         -0.34299717 -0.25      ]\n",
      " [-0.34299717  1.          0.94324222]\n",
      " [-0.25        0.94324222  1.        ]] \n",
      "\n",
      "[[0.13566761]\n",
      " [0.53341502]\n",
      " [0.56441407]] \n",
      "\n",
      "[[ 0.86433239 -0.47866478  0.         -0.38566761  0.        ]\n",
      " [-0.87641219  0.46658498  0.          0.4098272   0.        ]\n",
      " [ 0.          0.          0.          0.          0.        ]\n",
      " [-0.81441407  0.37882815  0.          0.43558593  0.        ]\n",
      " [ 0.          0.          0.          0.          0.        ]]\n"
     ]
    }
   ],
   "source": [
    "import numpy as np\n",
    "from copy import deepcopy\n",
    "\n",
    "a = np.array([[1, 0, 0, 0, 0], [0, 1, 0, 3, 0], [4, 5, 0, 7, 0], [0, 0, 0, 1, 0], [8, 9, 0, 11, 0]])\n",
    "a = np.corrcoef(a)\n",
    "\n",
    "a[2] = 0\n",
    "a[4] = 0\n",
    "for i in a:\n",
    "    i[2] = 0\n",
    "    i[4] = 0\n",
    "\n",
    "print(a, '\\n')\n",
    "\n",
    "a_diag = np.diag(a)\n",
    "a_diag_pos = a_diag > 0.999\n",
    "\n",
    "print(a_diag_pos, '\\n')\n",
    "\n",
    "ixgrid = np.ix_(a_diag_pos, a_diag_pos)\n",
    "print(a[ixgrid], '\\n')\n",
    "\n",
    "print(a[ixgrid].mean(axis=1, keepdims=True), '\\n')\n",
    "\n",
    "a[ixgrid] -= a[ixgrid].mean(axis=1, keepdims=True)\n",
    "print(a)"
   ]
  },
  {
   "cell_type": "code",
   "execution_count": 26,
   "metadata": {},
   "outputs": [],
   "source": [
    "# a = a[~np.all(a == 0, axis=1)]\n",
    "# a = a[:, ~np.all(a == 0, axis=0)]\n",
    "# print(len(a))\n",
    "# print(np.mean(a[0]))\n",
    "# print(np.mean(a[1]))\n",
    "# print(np.mean(a[2]))"
   ]
  },
  {
   "cell_type": "code",
   "execution_count": 27,
   "metadata": {},
   "outputs": [
    {
     "name": "stdout",
     "output_type": "stream",
     "text": [
      "[[ 0.86433239 -0.47866478  0.         -0.38566761  0.        ]\n",
      " [-0.87641219  0.46658498  0.          0.4098272   0.        ]\n",
      " [ 0.          0.          0.          0.          0.        ]\n",
      " [-0.81441407  0.37882815  0.          0.43558593  0.        ]\n",
      " [ 0.          0.          0.          0.          0.        ]] \n",
      "\n",
      "[[ 0.86433239 -0.47866478 -0.38566761]\n",
      " [-0.87641219  0.46658498  0.4098272 ]\n",
      " [-0.81441407  0.37882815  0.43558593]] \n",
      "\n",
      "[[ 0.56246498 -0.56945316  0.         -0.52662377  0.        ]\n",
      " [-0.56945316  0.5768791   0.          0.53451645  0.        ]\n",
      " [ 0.          0.          0.          0.          0.        ]\n",
      " [-0.52662377  0.53451645  0.          0.49825807  0.        ]\n",
      " [ 0.          0.          0.          0.          0.        ]] \n",
      "\n"
     ]
    }
   ],
   "source": [
    "b = deepcopy(a)\n",
    "print(b, '\\n')\n",
    "print(b[ixgrid], '\\n')\n",
    "b[ixgrid] = np.cov(b[ixgrid])\n",
    "print(b, '\\n')"
   ]
  },
  {
   "cell_type": "code",
   "execution_count": 28,
   "metadata": {},
   "outputs": [
    {
     "name": "stdout",
     "output_type": "stream",
     "text": [
      "[[ 0.56246498 -0.56945316 -0.52662377]\n",
      " [-0.56945316  0.5768791   0.53451645]\n",
      " [-0.52662377  0.53451645  0.49825807]]\n"
     ]
    }
   ],
   "source": [
    "a = a[~np.all(a == 0, axis=1)]\n",
    "a = a[:, ~np.all(a == 0, axis=0)]\n",
    "print(np.cov(a))"
   ]
  },
  {
   "cell_type": "code",
   "execution_count": 42,
   "metadata": {},
   "outputs": [
    {
     "data": {
      "text/plain": [
       "True"
      ]
     },
     "execution_count": 42,
     "metadata": {},
     "output_type": "execute_result"
    }
   ],
   "source": []
  }
 ],
 "metadata": {
  "kernelspec": {
   "display_name": "py3.11",
   "language": "python",
   "name": "python3"
  },
  "language_info": {
   "codemirror_mode": {
    "name": "ipython",
    "version": 3
   },
   "file_extension": ".py",
   "mimetype": "text/x-python",
   "name": "python",
   "nbconvert_exporter": "python",
   "pygments_lexer": "ipython3",
   "version": "3.11.5"
  }
 },
 "nbformat": 4,
 "nbformat_minor": 2
}
