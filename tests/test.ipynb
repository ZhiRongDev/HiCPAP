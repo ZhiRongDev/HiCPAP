{
 "cells": [
  {
   "cell_type": "code",
   "execution_count": 18,
   "metadata": {},
   "outputs": [],
   "source": [
    "import os\n",
    "import sys\n",
    "module_path = os.path.abspath(os.path.join('..'))\n",
    "if module_path not in sys.path:\n",
    "    sys.path.append(module_path)\n",
    "\n",
    "from hicpapp import papptools\n",
    "import numpy as np\n",
    "\n",
    "rng = np.random.default_rng(seed=42)"
   ]
  },
  {
   "cell_type": "code",
   "execution_count": 19,
   "metadata": {},
   "outputs": [
    {
     "name": "stdout",
     "output_type": "stream",
     "text": [
      "[ 0.65636746  0.68930546 -0.6743965 ] \n",
      "\n",
      "[-0.5625641  -0.59084152  0.57829744] \n",
      "\n"
     ]
    }
   ],
   "source": [
    "xarr = rng.random((3, 3))\n",
    "xarr_corr = np.corrcoef(xarr)\n",
    "xarr_corr = xarr_corr - xarr_corr.mean(axis=1, keepdims=True) # Zero mean of Pearson correlaton matrix\n",
    "\n",
    "approx_np = papptools.create_approx(xarr_corr)\n",
    "Vh, explained_variances, total_entry_num, valid_entry_num = papptools.calc_explained_variance(xarr_corr)\n",
    "\n",
    "print(approx_np, '\\n')\n",
    "print(Vh[0], '\\n')"
   ]
  }
 ],
 "metadata": {
  "kernelspec": {
   "display_name": "py3.11",
   "language": "python",
   "name": "python3"
  },
  "language_info": {
   "codemirror_mode": {
    "name": "ipython",
    "version": 3
   },
   "file_extension": ".py",
   "mimetype": "text/x-python",
   "name": "python",
   "nbconvert_exporter": "python",
   "pygments_lexer": "ipython3",
   "version": "3.1.0"
  }
 },
 "nbformat": 4,
 "nbformat_minor": 2
}
