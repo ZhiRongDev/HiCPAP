{
 "cells": [
  {
   "cell_type": "code",
   "execution_count": 15,
   "metadata": {},
   "outputs": [
    {
     "name": "stdout",
     "output_type": "stream",
     "text": [
      "['All', '1', '2', '3', '4', '5', '6', '7', '8', '9', '10', '11', '12', '13', '14', '15', '16', '17', '18', '19', '20', '21', '22', 'X', 'Y', 'MT']\n"
     ]
    }
   ],
   "source": [
    "import hicstraw\n",
    "hic_path = \"/media/jordan990301/Samsung_T5/HiC_Datasets/data_for_hicpap/data_store/data/rao_2014/hic\"\n",
    "hic = hicstraw.HiCFile(f\"{hic_path}/GSE63525_CH12-LX_combined_30.hic\")\n",
    "hic = hicstraw.HiCFile(f\"{hic_path}/GSE63525_GM12878_insitu_primary+replicate_combined_30.hic\")\n",
    "hic = hicstraw.HiCFile(f\"{hic_path}/GSE63525_HMEC_combined_30.hic\")\n",
    "hic = hicstraw.HiCFile(f\"{hic_path}/GSE63525_HUVEC_combined_30.hic\")\n",
    "hic = hicstraw.HiCFile(f\"{hic_path}/GSE63525_IMR90_combined_30.hic\")\n",
    "hic = hicstraw.HiCFile(f\"{hic_path}/GSE63525_K562_combined_30.hic\")\n",
    "hic = hicstraw.HiCFile(f\"{hic_path}/GSE63525_KBM7_combined_30.hic\")\n",
    "hic = hicstraw.HiCFile(f\"{hic_path}/GSE63525_NHEK_combined_30.hic\")\n",
    "chroms = []\n",
    "\n",
    "for chrom in hic.getChromosomes():\n",
    "    chroms.append(chrom.name)\n",
    "    # print(chrom.name, chrom.length)\n",
    "print(chroms)"
   ]
  },
  {
   "cell_type": "code",
   "execution_count": 1,
   "metadata": {},
   "outputs": [
    {
     "name": "stderr",
     "output_type": "stream",
     "text": [
      "2024-03-07 02:13:33 lieberman_2009 summary_explained_variance end\n"
     ]
    }
   ],
   "source": [
    "import logging\n",
    "import datetime\n",
    "\n",
    "logging.basicConfig(format='%(message)s', level=logging.INFO)\n",
    "logging.info(f\"{datetime.datetime.now():%Y-%m-%d %H:%M:%S} lieberman_2009 summary_explained_variance end\")"
   ]
  }
 ],
 "metadata": {
  "kernelspec": {
   "display_name": "py3.11",
   "language": "python",
   "name": "python3"
  },
  "language_info": {
   "codemirror_mode": {
    "name": "ipython",
    "version": 3
   },
   "file_extension": ".py",
   "mimetype": "text/x-python",
   "name": "python",
   "nbconvert_exporter": "python",
   "pygments_lexer": "ipython3",
   "version": "3.11.5"
  }
 },
 "nbformat": 4,
 "nbformat_minor": 2
}
