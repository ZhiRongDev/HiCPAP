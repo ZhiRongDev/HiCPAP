{
 "cells": [
  {
   "cell_type": "markdown",
   "metadata": {},
   "source": [
    "This notebook is used to proof that the specific column of the Pearson's covariance matrix can be calculated column by column from $x$. "
   ]
  },
  {
   "cell_type": "code",
   "execution_count": 115,
   "metadata": {},
   "outputs": [
    {
     "data": {
      "text/plain": [
       "array([[1.70211204, 2.0232065 , 0.60164408, 1.49471855, 1.6021923 ],\n",
       "       [2.0232065 , 0.19967807, 0.33839322, 0.98407353, 3.43774273],\n",
       "       [0.60164408, 0.33839322, 2.59393913, 1.44558474, 2.02007285],\n",
       "       [1.49471855, 0.98407353, 1.44558474, 3.03079067, 2.2081618 ],\n",
       "       [1.6021923 , 3.43774273, 2.02007285, 2.2081618 , 1.17758276]])"
      ]
     },
     "execution_count": 115,
     "metadata": {},
     "output_type": "execute_result"
    }
   ],
   "source": [
    "import numpy as np\n",
    "\n",
    "def generate_x(n:int):\n",
    "    # Create a nxn array with random positive values\n",
    "    matrix_np = np.abs(np.random.randn(n, n))  # Use absolute values for positive entries\n",
    "    # Make the array symmetric\n",
    "    matrix_np = matrix_np + matrix_np.T\n",
    "    matrix_np = matrix_np.astype(\"float64\") # Sparse\n",
    "    return matrix_np \n",
    "\n",
    "x = generate_x(n=5)\n",
    "x"
   ]
  },
  {
   "cell_type": "code",
   "execution_count": 116,
   "metadata": {},
   "outputs": [
    {
     "name": "stdout",
     "output_type": "stream",
     "text": [
      "[[0.22618996 0.57393422 0.40223248 0.34035075 0.3625589 ]\n",
      " [0.57393422 1.45630023 1.02062436 0.86360573 0.91995667]\n",
      " [0.40223248 1.02062436 0.71528801 0.60524405 0.64473669]\n",
      " [0.34035075 0.86360573 0.60524405 0.51212988 0.54554675]\n",
      " [0.3625589  0.91995667 0.64473669 0.54554675 0.58114409]] \n",
      "\n"
     ]
    }
   ],
   "source": [
    "x -= x.mean(axis=1, keepdims=True)\n",
    "n = len(x[0])\n",
    "\n",
    "std = np.std(x, axis=1)\n",
    "std = np.array([std])\n",
    "std_mat = std.T @ std # Dense, but can be stored as an 1D array.\n",
    "\n",
    "cov = x @ x.T / n\n",
    "corr = (x @ x.T / std_mat) / n # Dense\n",
    "\n",
    "corr -= corr.mean(axis=1, keepdims=True)\n",
    "corr_cov = corr @ corr.T / n\n",
    "\n",
    "# print(corr_cov, '\\n')\n",
    "# print(np.cov(corr, bias=True), '\\n')\n",
    "\n",
    "print(std_mat, '\\n')"
   ]
  },
  {
   "cell_type": "code",
   "execution_count": 117,
   "metadata": {},
   "outputs": [
    {
     "name": "stdout",
     "output_type": "stream",
     "text": [
      "[0.22618996 0.57393422 0.40223248 0.34035075 0.3625589 ]\n",
      "[0.57393422 1.45630023 1.02062436 0.86360573 0.91995667]\n",
      "[0.40223248 1.02062436 0.71528801 0.60524405 0.64473669]\n",
      "[0.34035075 0.86360573 0.60524405 0.51212988 0.54554675]\n",
      "[0.3625589  0.91995667 0.64473669 0.54554675 0.58114409]\n"
     ]
    }
   ],
   "source": [
    "# Prove that the there's no need to calculate the full std_mat.\n",
    "std_f = std.flatten()\n",
    "for i in range(n):\n",
    "    print(std_f[i] * std_f)"
   ]
  },
  {
   "cell_type": "code",
   "execution_count": 118,
   "metadata": {},
   "outputs": [
    {
     "name": "stdout",
     "output_type": "stream",
     "text": [
      "[[ 0.87762882  0.10825558 -0.98071005 -0.20023831  0.19506396]\n",
      " [ 0.04945133  0.81882458 -0.03345737  0.16290133 -0.99771987]\n",
      " [-0.87748665  0.12857028  0.98085223  0.30996686 -0.54190273]\n",
      " [-0.31240762  0.10953626  0.09457414  0.76545951 -0.65716229]\n",
      " [ 0.40633235 -0.72764723 -0.43385774 -0.33372459  1.08889721]] \n",
      "\n",
      "[[ 0.36437783 -0.01247681 -0.37717874 -0.12730656  0.19651096]\n",
      " [-0.01247681  0.33920406  0.1240456   0.17028721 -0.34039692]\n",
      " [-0.37717874  0.1240456   0.42766445  0.194873   -0.31383506]\n",
      " [-0.12730656  0.17028721  0.194873    0.2272663  -0.24374233]\n",
      " [ 0.19651096 -0.34039692 -0.31383506 -0.24374233  0.43597565]] \n",
      "\n"
     ]
    }
   ],
   "source": [
    "print(corr, '\\n')\n",
    "print(corr_cov, '\\n')"
   ]
  },
  {
   "cell_type": "code",
   "execution_count": 119,
   "metadata": {},
   "outputs": [
    {
     "data": {
      "text/plain": [
       "array([-0.31240762,  0.10953626,  0.09457414,  0.76545951, -0.65716229])"
      ]
     },
     "execution_count": 119,
     "metadata": {},
     "output_type": "execute_result"
    }
   ],
   "source": [
    "index_s = 3\n",
    "corr_s = (x @ x[index_s].T / std_mat[index_s]) / n \n",
    "corr_s -= corr_s.mean()\n",
    "corr_s"
   ]
  },
  {
   "cell_type": "code",
   "execution_count": 120,
   "metadata": {},
   "outputs": [
    {
     "data": {
      "text/plain": [
       "array([-0.12730656,  0.17028721,  0.194873  ,  0.2272663 , -0.24374233])"
      ]
     },
     "execution_count": 120,
     "metadata": {},
     "output_type": "execute_result"
    }
   ],
   "source": [
    "corr_s_cov = []\n",
    "\n",
    "for i in range(n):\n",
    "    corr_i = (x @ x[i].T / std_mat[i]) / n \n",
    "    corr_i -= corr_i.mean()\n",
    "    item = corr_i @ corr_s\n",
    "    corr_s_cov.append(item)\n",
    "\n",
    "corr_s_cov = np.array(corr_s_cov)\n",
    "corr_s_cov = corr_s_cov / n\n",
    "corr_s_cov"
   ]
  }
 ],
 "metadata": {
  "kernelspec": {
   "display_name": "base",
   "language": "python",
   "name": "python3"
  },
  "language_info": {
   "codemirror_mode": {
    "name": "ipython",
    "version": 3
   },
   "file_extension": ".py",
   "mimetype": "text/x-python",
   "name": "python",
   "nbconvert_exporter": "python",
   "pygments_lexer": "ipython3",
   "version": "3.11.5"
  }
 },
 "nbformat": 4,
 "nbformat_minor": 2
}
