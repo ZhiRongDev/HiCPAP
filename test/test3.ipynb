{
 "cells": [
  {
   "cell_type": "markdown",
   "metadata": {},
   "source": [
    "This notebook is used to proof that the specific column of the Pearson's covariance matrix can be calculated column by column from $x$. \n",
    "\n",
    "This is adjust from the `test2.ipynb`"
   ]
  },
  {
   "cell_type": "code",
   "execution_count": 55,
   "metadata": {},
   "outputs": [
    {
     "data": {
      "text/plain": [
       "array([[0.50096432, 1.8971359 , 1.160926  , 3.38979981, 1.01689986],\n",
       "       [1.8971359 , 2.60831351, 2.71217697, 3.44443043, 3.85629207],\n",
       "       [1.160926  , 2.71217697, 1.71142914, 0.18357595, 1.81075194],\n",
       "       [3.38979981, 3.44443043, 0.18357595, 0.1671944 , 1.76541959],\n",
       "       [1.01689986, 3.85629207, 1.81075194, 1.76541959, 1.91193823]])"
      ]
     },
     "execution_count": 55,
     "metadata": {},
     "output_type": "execute_result"
    }
   ],
   "source": [
    "import numpy as np\n",
    "\n",
    "def generate_x(n:int):\n",
    "    # Create a nxn array with random positive values\n",
    "    matrix_np = np.abs(np.random.randn(n, n))  # Use absolute values for positive entries\n",
    "    # Make the array symmetric\n",
    "    matrix_np = matrix_np + matrix_np.T\n",
    "    matrix_np = matrix_np.astype(\"float64\") # Sparse\n",
    "    return matrix_np \n",
    "\n",
    "x = generate_x(n=5)\n",
    "x"
   ]
  },
  {
   "cell_type": "code",
   "execution_count": 56,
   "metadata": {},
   "outputs": [
    {
     "name": "stdout",
     "output_type": "stream",
     "text": [
      "[[1.00642187 0.6858475  0.83421153 1.45455845 0.95011544]\n",
      " [0.6858475  0.46738531 0.56849112 0.99123967 0.6474763 ]\n",
      " [0.83421153 0.56849112 0.69146835 1.20566679 0.78753978]\n",
      " [1.45455845 0.99123967 1.20566679 2.10223998 1.37318007]\n",
      " [0.95011544 0.6474763  0.78753978 1.37318007 0.8969592 ]] \n",
      "\n"
     ]
    }
   ],
   "source": [
    "x -= x.mean(axis=1, keepdims=True)\n",
    "n = len(x[0])\n",
    "\n",
    "std = np.std(x, axis=1)\n",
    "std = np.array([std])\n",
    "std_mat = std.T @ std # Dense, but can be stored as an 1D array.\n",
    "\n",
    "cov = x @ x.T / n\n",
    "corr = (x @ x.T / std_mat) / n # Dense\n",
    "\n",
    "corr -= corr.mean(axis=1, keepdims=True)\n",
    "corr_cov = corr @ corr.T / n\n",
    "\n",
    "# print(corr_cov, '\\n')\n",
    "# print(np.cov(corr, bias=True), '\\n')\n",
    "\n",
    "print(std_mat, '\\n')"
   ]
  },
  {
   "cell_type": "code",
   "execution_count": 57,
   "metadata": {},
   "outputs": [
    {
     "name": "stdout",
     "output_type": "stream",
     "text": [
      "[1.00642187 0.6858475  0.83421153 1.45455845 0.95011544]\n",
      "[0.6858475  0.46738531 0.56849112 0.99123967 0.6474763 ]\n",
      "[0.83421153 0.56849112 0.69146835 1.20566679 0.78753978]\n",
      "[1.45455845 0.99123967 1.20566679 2.10223998 1.37318007]\n",
      "[0.95011544 0.6474763  0.78753978 1.37318007 0.8969592 ]\n"
     ]
    }
   ],
   "source": [
    "# Prove that the there's no need to calculate the full std_mat.\n",
    "std_f = std.flatten()\n",
    "for i in range(n):\n",
    "    print(std_f[i] * std_f)"
   ]
  },
  {
   "cell_type": "code",
   "execution_count": 58,
   "metadata": {},
   "outputs": [
    {
     "name": "stdout",
     "output_type": "stream",
     "text": [
      "[[ 0.84071453  0.28247872 -0.61403626 -0.63385819  0.1247012 ]\n",
      " [ 0.27885878  0.8370946  -0.32933293 -0.70611322 -0.08050724]\n",
      " [-0.78159808 -0.49327482  0.67315271  0.21260895  0.38911124]\n",
      " [-0.64256063 -0.71119573  0.37146833  0.83201209  0.15027594]\n",
      " [-0.19613478 -0.39772328  0.23583709 -0.16185759  0.51987856]] \n",
      "\n",
      "[[ 0.31619245  0.22213214 -0.25920439 -0.29556817 -0.050926  ]\n",
      " [ 0.22213214  0.27840541 -0.20680336 -0.29929031 -0.07857181]\n",
      " [-0.25920439 -0.20680336  0.30079206  0.26769226  0.13522361]\n",
      " [-0.29556817 -0.29929031  0.26769226  0.35429985  0.08799027]\n",
      " [-0.050926   -0.07857181  0.13522361  0.08799027  0.10974868]] \n",
      "\n"
     ]
    }
   ],
   "source": [
    "print(corr, '\\n')\n",
    "print(corr_cov, '\\n')"
   ]
  },
  {
   "cell_type": "code",
   "execution_count": 59,
   "metadata": {},
   "outputs": [
    {
     "data": {
      "text/plain": [
       "array([-0.19613478, -0.39772328,  0.23583709, -0.16185759,  0.51987856])"
      ]
     },
     "execution_count": 59,
     "metadata": {},
     "output_type": "execute_result"
    }
   ],
   "source": [
    "index_s = -1\n",
    "corr_s = (x @ x[index_s].T / (std_f[index_s] * std_f)) / n \n",
    "corr_s -= corr_s.mean()\n",
    "corr_s"
   ]
  },
  {
   "cell_type": "code",
   "execution_count": 60,
   "metadata": {},
   "outputs": [
    {
     "data": {
      "text/plain": [
       "array([-0.050926  , -0.07857181,  0.13522361,  0.08799027,  0.10974868])"
      ]
     },
     "execution_count": 60,
     "metadata": {},
     "output_type": "execute_result"
    }
   ],
   "source": [
    "corr_s_cov = []\n",
    "\n",
    "for i in range(n):\n",
    "    corr_i = (x @ x[i].T / (std_f[i] * std_f)) / n \n",
    "    corr_i -= corr_i.mean()\n",
    "    item = corr_i @ corr_s\n",
    "    corr_s_cov.append(item)\n",
    "\n",
    "corr_s_cov = np.array(corr_s_cov)\n",
    "corr_s_cov = corr_s_cov / n\n",
    "corr_s_cov"
   ]
  }
 ],
 "metadata": {
  "kernelspec": {
   "display_name": "base",
   "language": "python",
   "name": "python3"
  },
  "language_info": {
   "codemirror_mode": {
    "name": "ipython",
    "version": 3
   },
   "file_extension": ".py",
   "mimetype": "text/x-python",
   "name": "python",
   "nbconvert_exporter": "python",
   "pygments_lexer": "ipython3",
   "version": "3.11.5"
  }
 },
 "nbformat": 4,
 "nbformat_minor": 2
}
