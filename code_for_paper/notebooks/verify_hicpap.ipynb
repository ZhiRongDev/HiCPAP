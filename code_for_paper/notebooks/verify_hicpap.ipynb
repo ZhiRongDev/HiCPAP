{
 "cells": [
  {
   "cell_type": "code",
   "execution_count": 80,
   "metadata": {},
   "outputs": [],
   "source": [
    "from hicpap import paptools\n",
    "import numpy as np\n",
    "from matplotlib import pyplot as plt\n",
    "import seaborn as sns\n",
    "\n",
    "np.set_printoptions(suppress=True)\n",
    "np.set_printoptions(precision=5)\n",
    "np.set_printoptions(threshold=10)\n",
    "# np.random.seed(3)"
   ]
  },
  {
   "cell_type": "code",
   "execution_count": 81,
   "metadata": {},
   "outputs": [],
   "source": [
    "def generate_matrix(variance_threshold_L = 0, variance_threshold_U = 1):\n",
    "    \"\"\"\n",
    "        Generates a random nxn symmetric matrix with positive values and\n",
    "        the first PC explaining at least L% and at most U% of the variance.\n",
    "    \"\"\"\n",
    "    matrix_n = 2000\n",
    "\n",
    "    while True:\n",
    "        # Create a nxn array with random positive values\n",
    "        matrix = np.abs(np.random.randn(matrix_n, matrix_n) * 10)  # Use absolute values for positive entries\n",
    "        # Make the array symmetric\n",
    "        matrix = matrix + matrix.T\n",
    "        \n",
    "        origin_matrix = matrix.copy()\n",
    "\n",
    "        # Subtract the mean of each row to center the data\n",
    "        matrix = matrix - matrix.mean(axis=1, keepdims=True)\n",
    "\n",
    "        # SVD \n",
    "        n = len(matrix[0])\n",
    "        y = matrix.T / np.sqrt(n)\n",
    "        U, S, Vh = np.linalg.svd(y, full_matrices=True)\n",
    "        eigenvalues = S * S\n",
    "        EV1_explained_variance = eigenvalues[0] / np.sum(eigenvalues) \n",
    "\n",
    "        # Check if the first PC explains at least the desired variance\n",
    "        if EV1_explained_variance >= variance_threshold_L and EV1_explained_variance < variance_threshold_U:\n",
    "            return origin_matrix\n",
    "\n",
    "# Generate a matrix that meets the conditions\n",
    "matrix = generate_matrix()\n",
    "pearson_np = np.corrcoef(matrix)\n",
    "\n",
    "# Subtract the mean of each row to center the data\n",
    "pearson_np -= pearson_np.mean(axis=1, keepdims=True)"
   ]
  },
  {
   "cell_type": "markdown",
   "metadata": {},
   "source": [
    "my pc1"
   ]
  },
  {
   "cell_type": "code",
   "execution_count": 82,
   "metadata": {},
   "outputs": [
    {
     "name": "stdout",
     "output_type": "stream",
     "text": [
      "[-0.00638  0.02046  0.03247 ...  0.0136   0.01198 -0.01022]\n"
     ]
    }
   ],
   "source": [
    "Vh, explained_variances, total_entry_num, valid_entry_num = paptools.pca_on_pearson(pearson_np=pearson_np)\n",
    "pc1_np = Vh[0]\n",
    "print(pc1_np)"
   ]
  },
  {
   "cell_type": "code",
   "execution_count": 83,
   "metadata": {},
   "outputs": [
    {
     "name": "stdout",
     "output_type": "stream",
     "text": [
      "[0.00392 0.0039  0.00384 ... 0.      0.      0.     ]\n",
      "0.9999999999999999\n"
     ]
    }
   ],
   "source": [
    "print(explained_variances)\n",
    "print(np.sum(explained_variances))"
   ]
  },
  {
   "cell_type": "markdown",
   "metadata": {},
   "source": [
    "sklearn"
   ]
  },
  {
   "cell_type": "code",
   "execution_count": 84,
   "metadata": {},
   "outputs": [
    {
     "name": "stdout",
     "output_type": "stream",
     "text": [
      "[0.00392 0.0039  0.00384 ... 0.      0.      0.     ]\n",
      "0.999999999999997\n"
     ]
    }
   ],
   "source": [
    "from sklearn.decomposition import PCA\n",
    "pca = PCA(n_components=len(pearson_np[0]))\n",
    "pca.fit(pearson_np)\n",
    "print(pca.explained_variance_ratio_)\n",
    "print(sum(pca.explained_variance_ratio_))\n",
    "# print(pca.components_[0])\n"
   ]
  },
  {
   "cell_type": "code",
   "execution_count": 85,
   "metadata": {},
   "outputs": [
    {
     "name": "stdout",
     "output_type": "stream",
     "text": [
      "[ 0.00004  0.00006 -0.00001 ... -0.00007  0.00008 -0.00003]\n"
     ]
    }
   ],
   "source": [
    "approx_np = paptools.create_approx(pearson_np=pearson_np)\n",
    "print(approx_np)"
   ]
  },
  {
   "cell_type": "code",
   "execution_count": 86,
   "metadata": {},
   "outputs": [
    {
     "data": {
      "text/plain": [
       "{'total_entry_num': 2000,\n",
       " 'valid_entry_num': 2000,\n",
       " 'correct_num': 1057,\n",
       " 'correct_rate': 0.5285}"
      ]
     },
     "metadata": {},
     "output_type": "display_data"
    }
   ],
   "source": [
    "correctness_info = paptools.calc_correctness(pc1_np=pc1_np, approx_np=approx_np)\n",
    "display(correctness_info)"
   ]
  }
 ],
 "metadata": {
  "kernelspec": {
   "display_name": "base",
   "language": "python",
   "name": "python3"
  },
  "language_info": {
   "codemirror_mode": {
    "name": "ipython",
    "version": 3
   },
   "file_extension": ".py",
   "mimetype": "text/x-python",
   "name": "python",
   "nbconvert_exporter": "python",
   "pygments_lexer": "ipython3",
   "version": "3.11.5"
  }
 },
 "nbformat": 4,
 "nbformat_minor": 2
}
