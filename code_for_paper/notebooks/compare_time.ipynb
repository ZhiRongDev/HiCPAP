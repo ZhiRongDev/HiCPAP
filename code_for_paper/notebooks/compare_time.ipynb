{
 "cells": [
  {
   "cell_type": "markdown",
   "metadata": {},
   "source": [
    "This notebook is for comparing the time spent of the traditional PCA versus our approximation method."
   ]
  },
  {
   "cell_type": "code",
   "execution_count": 1,
   "metadata": {},
   "outputs": [],
   "source": [
    "import time\n",
    "import numpy as np\n",
    "from hicpap import paptools"
   ]
  },
  {
   "cell_type": "code",
   "execution_count": 2,
   "metadata": {},
   "outputs": [
    {
     "name": "stdout",
     "output_type": "stream",
     "text": [
      "[[ 1.          0.1342718   0.12754625 ...  0.          0.03703032\n",
      "   0.03536016]\n",
      " [ 0.1342718   1.          0.19178621 ...  0.         -0.04538033\n",
      "  -0.04419972]\n",
      " [ 0.12754625  0.19178621  1.         ...  0.          0.03625308\n",
      "   0.03438801]\n",
      " ...\n",
      " [ 0.          0.          0.         ...  0.          0.\n",
      "   0.        ]\n",
      " [ 0.03703032 -0.04538033  0.03625308 ...  0.          1.\n",
      "   0.9237512 ]\n",
      " [ 0.03536016 -0.04419972  0.03438801 ...  0.          0.9237512\n",
      "   1.        ]]\n"
     ]
    }
   ],
   "source": [
    "pearson = \"./data/gm12878_25kb_chr2/pearson_chr2.txt\"\n",
    "pearson_np = paptools.read_pearson(pearson=pearson)\n",
    "\n",
    "if len(pearson_np) == len(pearson_np[0]): \n",
    "    print(pearson_np)\n",
    "else:\n",
    "    print(\"Pearson matrix has a different number of rows and columns\")"
   ]
  },
  {
   "cell_type": "code",
   "execution_count": 48,
   "metadata": {},
   "outputs": [
    {
     "name": "stdout",
     "output_type": "stream",
     "text": [
      "Time spend for create approx (seconds): 20.403361082077026\n"
     ]
    }
   ],
   "source": [
    "start = time.time()\n",
    "\n",
    "approx_np = paptools.create_approx(pearson_np=pearson_np)\n",
    "\n",
    "end = time.time()\n",
    "print(f\"Time spend for create approx (seconds): {end - start}\")"
   ]
  },
  {
   "cell_type": "code",
   "execution_count": 45,
   "metadata": {},
   "outputs": [
    {
     "name": "stdout",
     "output_type": "stream",
     "text": [
      "Time spend for PCA through SVD (seconds): 789.6850643157959\n"
     ]
    }
   ],
   "source": [
    "start = time.time()\n",
    "\n",
    "pearson_np = paptools.zero_means_pearson(pearson_np=pearson_np)\n",
    "diag = np.diag(pearson_np)\n",
    "diag_valid = diag != 0\n",
    "ixgrid = np.ix_(diag_valid, diag_valid) # Extract the submatrix.\n",
    "# PCA\n",
    "n = valid_entry_num = len(pearson_np[ixgrid])\n",
    "y = pearson_np[ixgrid].T / np.sqrt(n)\n",
    "U, S, Vh = np.linalg.svd(y, full_matrices=True)\n",
    "\n",
    "end = time.time()\n",
    "print(f\"Time spend for PCA through SVD (seconds): {end - start}\")"
   ]
  }
 ],
 "metadata": {
  "kernelspec": {
   "display_name": "base",
   "language": "python",
   "name": "python3"
  },
  "language_info": {
   "codemirror_mode": {
    "name": "ipython",
    "version": 3
   },
   "file_extension": ".py",
   "mimetype": "text/x-python",
   "name": "python",
   "nbconvert_exporter": "python",
   "pygments_lexer": "ipython3",
   "version": "3.11.5"
  }
 },
 "nbformat": 4,
 "nbformat_minor": 2
}
