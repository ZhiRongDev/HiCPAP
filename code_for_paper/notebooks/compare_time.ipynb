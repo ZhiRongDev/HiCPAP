{
 "cells": [
  {
   "cell_type": "code",
   "execution_count": 42,
   "metadata": {},
   "outputs": [],
   "source": [
    "import time\n",
    "import numpy as np\n",
    "from hicpap import paptools"
   ]
  },
  {
   "cell_type": "code",
   "execution_count": 43,
   "metadata": {},
   "outputs": [
    {
     "name": "stdout",
     "output_type": "stream",
     "text": [
      "[[ 0.99635645  0.13062825  0.1239027  ...  0.          0.03338677\n",
      "   0.03171661]\n",
      " [ 0.1313125   0.9970407   0.18882691 ...  0.         -0.04833963\n",
      "  -0.04715903]\n",
      " [ 0.12007674  0.1843167   0.99253049 ...  0.          0.02878357\n",
      "   0.0269185 ]\n",
      " ...\n",
      " [ 0.          0.          0.         ...  0.          0.\n",
      "   0.        ]\n",
      " [-0.00498864 -0.08739929 -0.00576588 ...  0.          0.95798104\n",
      "   0.88173224]\n",
      " [-0.0042164  -0.08377628 -0.00518855 ...  0.          0.88417464\n",
      "   0.96042344]]\n"
     ]
    }
   ],
   "source": [
    "pearson = \"/home/jordan990301/Projects/HiCPAP/test/data/gm12878_25kb_chr2/pearson_chr2.txt\"\n",
    "pearson_np = paptools.read_pearson(pearson=pearson, zero_mean=True)\n",
    "print(pearson_np)\n"
   ]
  },
  {
   "cell_type": "code",
   "execution_count": 48,
   "metadata": {},
   "outputs": [
    {
     "name": "stdout",
     "output_type": "stream",
     "text": [
      "Time spend for create approx (seconds): 20.403361082077026\n"
     ]
    }
   ],
   "source": [
    "start = time.time()\n",
    "\n",
    "approx_np = paptools.create_approx(pearson_np=pearson_np)\n",
    "\n",
    "end = time.time()\n",
    "print(f\"Time spend for create approx (seconds): {end - start}\")"
   ]
  },
  {
   "cell_type": "code",
   "execution_count": 45,
   "metadata": {},
   "outputs": [
    {
     "name": "stdout",
     "output_type": "stream",
     "text": [
      "Time spend for PCA through SVD (seconds): 789.6850643157959\n"
     ]
    }
   ],
   "source": [
    "if len(pearson_np) == len(pearson_np[0]): \n",
    "    start = time.time()\n",
    "\n",
    "    diag = np.diag(pearson_np)\n",
    "    diag_valid = diag != 0\n",
    "    ixgrid = np.ix_(diag_valid, diag_valid) # Extract the submatrix.\n",
    "    # PCA\n",
    "    n = valid_entry_num = len(pearson_np[ixgrid])\n",
    "    y = pearson_np[ixgrid].T / np.sqrt(n)\n",
    "    U, S, Vh = np.linalg.svd(y, full_matrices=True)\n",
    "\n",
    "    end = time.time()\n",
    "    print(f\"Time spend for PCA through SVD (seconds): {end - start}\")\n",
    "else:\n",
    "    print(\"Pearson matrix has a different number of rows and columns\")"
   ]
  },
  {
   "cell_type": "code",
   "execution_count": 50,
   "metadata": {},
   "outputs": [
    {
     "name": "stdout",
     "output_type": "stream",
     "text": [
      "{'total_entry_num': 9728, 'valid_entry_num': 9519, 'correct_num': 9361, 'correct_rate': 0.9834016178169975}\n"
     ]
    }
   ],
   "source": [
    "pc1_np = np.zeros(len(pearson_np)) \n",
    "pc1_np[diag_valid] = Vh[0]\n",
    "\n",
    "pc1_np, approx_np = paptools.flip_tracks(pc1_np, approx_np)\n",
    "similarity_info = paptools.calc_similarity(pc1_np=pc1_np, approx_np=approx_np)\n",
    "print(similarity_info)"
   ]
  }
 ],
 "metadata": {
  "kernelspec": {
   "display_name": "base",
   "language": "python",
   "name": "python3"
  },
  "language_info": {
   "codemirror_mode": {
    "name": "ipython",
    "version": 3
   },
   "file_extension": ".py",
   "mimetype": "text/x-python",
   "name": "python",
   "nbconvert_exporter": "python",
   "pygments_lexer": "ipython3",
   "version": "3.11.5"
  }
 },
 "nbformat": 4,
 "nbformat_minor": 2
}
