{
 "cells": [
  {
   "cell_type": "code",
   "execution_count": 11,
   "metadata": {},
   "outputs": [
    {
     "name": "stdout",
     "output_type": "stream",
     "text": [
      "/home/jordan990301/Projects/HiCPAP/examples\n"
     ]
    }
   ],
   "source": [
    "%%bash\n",
    "pwd\n",
    "mkdir -p \"./data/outputs\""
   ]
  },
  {
   "cell_type": "code",
   "execution_count": 12,
   "metadata": {},
   "outputs": [],
   "source": [
    "import numpy as np\n",
    "import pandas as pd\n",
    "from hicpap import paptools\n",
    "import hicstraw\n",
    "\n",
    "np.set_printoptions(suppress=True)\n",
    "np.set_printoptions(precision=4)\n",
    "np.set_printoptions(threshold=50)"
   ]
  },
  {
   "cell_type": "code",
   "execution_count": 13,
   "metadata": {},
   "outputs": [
    {
     "data": {
      "text/plain": [
       "array([[ 1.0476,  0.1936,  0.0028, ...,  0.0101,  0.4535,  0.8902],\n",
       "       [ 0.2667,  1.1206,  0.5389, ..., -0.3489, -0.4613, -0.1819],\n",
       "       [ 0.0411,  0.5042,  1.086 , ..., -0.443 , -0.3807, -0.2496],\n",
       "       ...,\n",
       "       [-0.1431, -0.5751, -0.6345, ...,  0.8944,  0.7085,  0.3035],\n",
       "       [ 0.3187, -0.6692, -0.5538, ...,  0.7269,  0.9128,  0.6856],\n",
       "       [ 0.8164, -0.3288, -0.3617, ...,  0.3829,  0.7466,  0.9738]])"
      ]
     },
     "metadata": {},
     "output_type": "display_data"
    }
   ],
   "source": [
    "### Case 1\n",
    "kwargs = {\n",
    "    \"pearson\":  \"./data/juicer_data/gm12878_1000000_pearson_chr1.txt\",\n",
    "    \"zero_mean\": True \n",
    "}\n",
    "pearson_np = paptools.read_pearson(**kwargs)\n",
    "\n",
    "### Case 2\n",
    "# kwargs = {\n",
    "#     \"hic_path\": \"https://hicfiles.s3.amazonaws.com/hiseq/gm12878/in-situ/combined.hic\",\n",
    "#     \"chrom_x\": \"1\",\n",
    "#     \"chrom_y\": \"1\",\n",
    "#     \"resolution\": 1000000,\n",
    "#     \"norm\": \"KR\",\n",
    "#     \"method\": \"oe\",\n",
    "#     \"zero_mean\": True \n",
    "# }\n",
    "# pearson_np = paptools.straw_to_pearson(**kwargs)\n",
    "\n",
    "display(pearson_np)"
   ]
  },
  {
   "cell_type": "code",
   "execution_count": 14,
   "metadata": {},
   "outputs": [
    {
     "data": {
      "text/plain": [
       "array([ 0.1182, -0.3513, -0.2252, ...,  0.2936,  0.3887,  0.2949])"
      ]
     },
     "metadata": {},
     "output_type": "display_data"
    }
   ],
   "source": [
    "output = \"./data/outputs/gm12878_1000000_approx_pc1.txt\"\n",
    "approx_np = paptools.create_approx(pearson_np=pearson_np, output=output)\n",
    "display(approx_np)"
   ]
  },
  {
   "cell_type": "code",
   "execution_count": 15,
   "metadata": {},
   "outputs": [
    {
     "data": {
      "text/plain": [
       "'pc1_np: [-0.0241  0.0759  0.0487 ... -0.0633 -0.083  -0.0624]'"
      ]
     },
     "metadata": {},
     "output_type": "display_data"
    },
    {
     "data": {
      "text/plain": [
       "'pc2_np: [-0.0536 -0.0055 -0.1206 ...  0.0592 -0.0076 -0.0192]'"
      ]
     },
     "metadata": {},
     "output_type": "display_data"
    },
    {
     "data": {
      "text/plain": [
       "'pc3_np: [ 0.1081  0.0879 -0.0366 ...  0.039   0.0504  0.0846]'"
      ]
     },
     "metadata": {},
     "output_type": "display_data"
    },
    {
     "data": {
      "text/plain": [
       "'explained_variances: [0.8449 0.0699 0.0404 ... 0.     0.     0.    ]'"
      ]
     },
     "metadata": {},
     "output_type": "display_data"
    },
    {
     "data": {
      "text/plain": [
       "'total_entry_num: 250'"
      ]
     },
     "metadata": {},
     "output_type": "display_data"
    },
    {
     "data": {
      "text/plain": [
       "'valid_entry_num: 230'"
      ]
     },
     "metadata": {},
     "output_type": "display_data"
    }
   ],
   "source": [
    "Vh, explained_variances, total_entry_num, valid_entry_num = paptools.pca_on_pearson(pearson_np=pearson_np)\n",
    "pc1_np = Vh[0]\n",
    "pc2_np = Vh[1]\n",
    "pc3_np = Vh[2]\n",
    "\n",
    "display(f\"pc1_np: {pc1_np}\")\n",
    "display(f\"pc2_np: {pc2_np}\")\n",
    "display(f\"pc3_np: {pc3_np}\")\n",
    "display(f\"explained_variances: {explained_variances}\")\n",
    "display(f\"total_entry_num: {total_entry_num}\")\n",
    "display(f\"valid_entry_num: {valid_entry_num}\")"
   ]
  },
  {
   "cell_type": "code",
   "execution_count": 16,
   "metadata": {},
   "outputs": [
    {
     "data": {
      "text/plain": [
       "{'total_entry_num': 250,\n",
       " 'valid_entry_num': 230,\n",
       " 'correct_num': 228,\n",
       " 'correct_rate': 0.991304347826087}"
      ]
     },
     "metadata": {},
     "output_type": "display_data"
    }
   ],
   "source": [
    "correctness_info = paptools.calc_correctness(pc1_np=pc1_np, approx_np=approx_np)\n",
    "display(correctness_info)"
   ]
  },
  {
   "cell_type": "code",
   "execution_count": 17,
   "metadata": {},
   "outputs": [],
   "source": [
    "kwargs_2 = {\n",
    "    \"pc1_np\": pc1_np,\n",
    "    \"approx_np\": approx_np,\n",
    "    \"figsize\": 20,\n",
    "    \"scatter\": \"./data/outputs/gm12878_1000000_scatter.png\",\n",
    "    \"relative_magnitude\": \"./data/outputs/gm12878_1000000_relative_magnitude.png\",\n",
    "}\n",
    "paptools.plot_comparison(**kwargs_2)"
   ]
  },
  {
   "cell_type": "markdown",
   "metadata": {},
   "source": [
    "compare with juicer pc1"
   ]
  },
  {
   "cell_type": "code",
   "execution_count": 18,
   "metadata": {},
   "outputs": [
    {
     "data": {
      "text/plain": [
       "{'total_entry_num': 250,\n",
       " 'valid_entry_num': 230,\n",
       " 'correct_num': 225,\n",
       " 'correct_rate': 0.9782608695652174}"
      ]
     },
     "metadata": {},
     "output_type": "display_data"
    }
   ],
   "source": [
    "pc1 = \"./data/juicer_data/gm12878_1000000_pc1_chr1.txt\"\n",
    "pc1_df = pd.read_table(pc1, header=None)\n",
    "pc1_np = pc1_df.fillna(0).values.flatten()\n",
    "\n",
    "correctness_info = paptools.calc_correctness(pc1_np=pc1_np, approx_np=approx_np)\n",
    "display(correctness_info)"
   ]
  },
  {
   "cell_type": "markdown",
   "metadata": {},
   "source": [
    "flip track"
   ]
  },
  {
   "cell_type": "code",
   "execution_count": 19,
   "metadata": {},
   "outputs": [
    {
     "name": "stdout",
     "output_type": "stream",
     "text": [
      "Before flip: [ 0.1182 -0.3513 -0.2252 ...  0.2936  0.3887  0.2949]\n",
      "After flip: [-0.1182  0.3513  0.2252 ... -0.2936 -0.3887 -0.2949]\n"
     ]
    }
   ],
   "source": [
    "gc_df = pd.read_table(\"./data/reference/hg19_gc_cov_1000000.tsv\")\n",
    "\n",
    "print(f'Before flip: {approx_np}')\n",
    "approx_np = paptools.flip_track(track_np=approx_np, gc_df=gc_df, chrom=\"1\")\n",
    "print(f'After flip: {approx_np}')"
   ]
  }
 ],
 "metadata": {
  "kernelspec": {
   "display_name": "base",
   "language": "python",
   "name": "python3"
  },
  "language_info": {
   "codemirror_mode": {
    "name": "ipython",
    "version": 3
   },
   "file_extension": ".py",
   "mimetype": "text/x-python",
   "name": "python",
   "nbconvert_exporter": "python",
   "pygments_lexer": "ipython3",
   "version": "3.11.5"
  }
 },
 "nbformat": 4,
 "nbformat_minor": 2
}
