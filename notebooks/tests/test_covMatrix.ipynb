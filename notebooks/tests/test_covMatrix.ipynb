{
 "cells": [
  {
   "cell_type": "markdown",
   "metadata": {},
   "source": [
    "自己的算法參考: A Tutorial on Principal Component Analysis <br>\n",
    "要注意, 在算 covariance matrix 的部份:\n",
    "* Peason 一定要做 zero mean \n",
    "* Y 的分母要代 n-1 算出來的結果才會跟 numpy.cov() 一樣。"
   ]
  },
  {
   "cell_type": "code",
   "execution_count": 1,
   "metadata": {},
   "outputs": [
    {
     "name": "stdout",
     "output_type": "stream",
     "text": [
      "/home/jordan990301/Projects/HiC-PC1_Approximation/test\n"
     ]
    }
   ],
   "source": [
    "!pwd"
   ]
  },
  {
   "cell_type": "code",
   "execution_count": 2,
   "metadata": {},
   "outputs": [],
   "source": [
    "import numpy as np\n",
    "import pandas as pd\n",
    "from copy import deepcopy\n",
    "from matplotlib import pyplot as plt\n",
    "from matplotlib.colors import ListedColormap\n",
    "np.set_printoptions(suppress=True)"
   ]
  },
  {
   "cell_type": "code",
   "execution_count": 3,
   "metadata": {},
   "outputs": [
    {
     "data": {
      "text/plain": [
       "array([[ -1.4621364 ,  -7.25704572,   8.16935584,   0.65961515,\n",
       "         -0.10978887],\n",
       "       [ -4.17757594, -10.04924043,  19.31800034,  -5.95877697,\n",
       "          0.86759299],\n",
       "       [  0.28623764,   8.35541237, -11.73759267,   4.9925866 ,\n",
       "         -1.89664394],\n",
       "       [  2.65484696,  -7.04301494,  14.87093661,  -6.68144259,\n",
       "         -3.80132603],\n",
       "       [  1.43671551,  -0.6653724 ,   7.53297864,  -4.25005345,\n",
       "         -4.05426831]])"
      ]
     },
     "metadata": {},
     "output_type": "display_data"
    }
   ],
   "source": [
    "def generate_oe_matrix(variance_threshold_L = 0.85, variance_threshold_U = 1):\n",
    "    \"\"\"\n",
    "        Generates a random 5x5 symmetric matrix with positive values and\n",
    "        the first PC explaining at least L% and at most U% of the variance.\n",
    "    \"\"\"\n",
    "\n",
    "    while True:\n",
    "        # Create a nxn array with random positive values\n",
    "        matrix = np.abs(np.random.randn(5, 5) * 10)  # Use absolute values for positive entries\n",
    "        # Make the array symmetric\n",
    "        matrix = matrix + matrix.T\n",
    "        \n",
    "        origin_matrix = matrix.copy()\n",
    "\n",
    "        # Subtract the mean of each row to center the data\n",
    "        matrix = matrix - matrix.mean(axis=1, keepdims=True)\n",
    "\n",
    "        # SVD \n",
    "        n = len(matrix[0])\n",
    "        matrix_t = np.transpose(matrix)\n",
    "        y = matrix_t / np.sqrt(n)\n",
    "        U, S, Vh = np.linalg.svd(y, full_matrices=True)\n",
    "        eigenvalues = S * S\n",
    "        EV1_explained_variance = eigenvalues[0] / np.sum(eigenvalues) \n",
    "\n",
    "        # Check if the first PC explains at least the desired variance\n",
    "        if EV1_explained_variance >= variance_threshold_L and EV1_explained_variance < variance_threshold_U:\n",
    "            # print(EV1_explained_variance, '\\n')\n",
    "            # print(origin_matrix, '\\n')\n",
    "            return origin_matrix\n",
    "\n",
    "# Generate a matrix that meets the conditions\n",
    "oe_np = generate_oe_matrix()\n",
    "oe_np = oe_np - oe_np.mean(axis=1, keepdims=True)\n",
    "display(oe_np)"
   ]
  },
  {
   "cell_type": "code",
   "execution_count": 4,
   "metadata": {},
   "outputs": [
    {
     "name": "stdout",
     "output_type": "stream",
     "text": [
      "[[ 30.49701899  58.2064626  -38.36032077  41.1814671   15.47731521]\n",
      " [ 58.2064626  131.97106296 -85.82584287  95.86952666  42.00356224]\n",
      " [-38.36032077 -85.82584287  59.04727715 -64.69607306 -26.77412752]\n",
      " [ 41.1814671   95.86952666 -64.69607306  84.22219553  41.08275481]\n",
      " [ 15.47731521  42.00356224 -26.77412752  41.08275481  23.43817125]]\n"
     ]
    }
   ],
   "source": [
    "n = len(oe_np)\n",
    "\n",
    "## It will make the difference between the np.cov\n",
    "# y_np = oe_np.T / np.sqrt(n)\n",
    "y_np = oe_np.T / np.sqrt(n - 1)\n",
    "\n",
    "cov_oe_np = np.matmul(y_np.T, y_np)\n",
    "\n",
    "print(cov_oe_np)\n"
   ]
  },
  {
   "cell_type": "code",
   "execution_count": 5,
   "metadata": {},
   "outputs": [
    {
     "name": "stdout",
     "output_type": "stream",
     "text": [
      "[[ 30.49701899  58.2064626  -38.36032077  41.1814671   15.47731521]\n",
      " [ 58.2064626  131.97106296 -85.82584287  95.86952666  42.00356224]\n",
      " [-38.36032077 -85.82584287  59.04727715 -64.69607306 -26.77412752]\n",
      " [ 41.1814671   95.86952666 -64.69607306  84.22219553  41.08275481]\n",
      " [ 15.47731521  42.00356224 -26.77412752  41.08275481  23.43817125]]\n"
     ]
    }
   ],
   "source": [
    "print(np.cov(oe_np))"
   ]
  },
  {
   "cell_type": "code",
   "execution_count": 6,
   "metadata": {},
   "outputs": [
    {
     "data": {
      "text/plain": [
       "array([[1., 1., 1., 1., 1.],\n",
       "       [1., 1., 1., 1., 1.],\n",
       "       [1., 1., 1., 1., 1.],\n",
       "       [1., 1., 1., 1., 1.],\n",
       "       [1., 1., 1., 1., 1.]])"
      ]
     },
     "execution_count": 6,
     "metadata": {},
     "output_type": "execute_result"
    }
   ],
   "source": [
    "np.cov(oe_np) / cov_oe_np "
   ]
  },
  {
   "cell_type": "code",
   "execution_count": null,
   "metadata": {},
   "outputs": [],
   "source": []
  }
 ],
 "metadata": {
  "kernelspec": {
   "display_name": "py3.11",
   "language": "python",
   "name": "python3"
  },
  "language_info": {
   "codemirror_mode": {
    "name": "ipython",
    "version": 3
   },
   "file_extension": ".py",
   "mimetype": "text/x-python",
   "name": "python",
   "nbconvert_exporter": "python",
   "pygments_lexer": "ipython3",
   "version": "3.11.5"
  }
 },
 "nbformat": 4,
 "nbformat_minor": 2
}
